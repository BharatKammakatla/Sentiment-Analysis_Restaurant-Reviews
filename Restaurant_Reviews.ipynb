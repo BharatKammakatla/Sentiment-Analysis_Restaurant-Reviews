{
  "nbformat": 4,
  "nbformat_minor": 0,
  "metadata": {
    "colab": {
      "name": "Restaurant Reviews.ipynb",
      "provenance": [],
      "toc_visible": true
    },
    "kernelspec": {
      "name": "python3",
      "display_name": "Python 3"
    }
  },
  "cells": [
    {
      "cell_type": "markdown",
      "metadata": {
        "id": "4jA5jjOHd5Lh",
        "colab_type": "text"
      },
      "source": [
        "# 😀/😞 Sentiment Analysis on Restaurant Reviews using NLP"
      ]
    },
    {
      "cell_type": "markdown",
      "metadata": {
        "id": "priprPfMeOT3",
        "colab_type": "text"
      },
      "source": [
        "*This note book builds an end-to-end classification model uisng NLP, Naive Bayes.*"
      ]
    },
    {
      "cell_type": "markdown",
      "metadata": {
        "id": "MT24x1tId_zu",
        "colab_type": "text"
      },
      "source": [
        "## 1.Problem\n",
        "\n",
        "Identify whether the reviews of a restaurant made by customers are postive or negative. "
      ]
    },
    {
      "cell_type": "markdown",
      "metadata": {
        "id": "K72F6rJSgZPo",
        "colab_type": "text"
      },
      "source": [
        "## 2.Data\n",
        "The data is collected from various sources on internet and collated into a single tab seperated csv file(Restaurant_Reviews.csv) and made available in the repo.\n"
      ]
    },
    {
      "cell_type": "markdown",
      "metadata": {
        "id": "tmaurYglhLSr",
        "colab_type": "text"
      },
      "source": [
        "## 3.Evaluation\n",
        "Evaluation is done on basis of metrics like accuracy score."
      ]
    },
    {
      "cell_type": "markdown",
      "metadata": {
        "id": "55361qW6hbtL",
        "colab_type": "text"
      },
      "source": [
        "## 4.Features\n",
        "Some information about data:\n",
        "* Entire data is in text format, so its better to use NLP for developing our ML models.\n",
        "* Overall, we have 1000 reviews.\n",
        "  * 500 positive reviews\n",
        "  * 500 negative reviews\n",
        "* We have two labels(columns) namely:\n",
        "  * Review : which is the review itself.\n",
        "  * Liked : which tells whether the review is positive or negative.\n",
        "    * 1 - for positive\n",
        "    * 0 - for negative\n",
        "* Text language is english."
      ]
    },
    {
      "cell_type": "markdown",
      "metadata": {
        "id": "j80oPjBslDPv",
        "colab_type": "text"
      },
      "source": [
        "### Connect Google Drive to Google Colab"
      ]
    },
    {
      "cell_type": "code",
      "metadata": {
        "id": "GbofT8Inmn6G",
        "colab_type": "code",
        "colab": {
          "base_uri": "https://localhost:8080/",
          "height": 122
        },
        "outputId": "2a433423-4aa5-4a3f-a225-dbd085add43d"
      },
      "source": [
        "from google.colab import drive\n",
        "drive.mount('/content/drive/')"
      ],
      "execution_count": 2,
      "outputs": [
        {
          "output_type": "stream",
          "text": [
            "Go to this URL in a browser: https://accounts.google.com/o/oauth2/auth?client_id=947318989803-6bn6qk8qdgf4n4g3pfee6491hc0brc4i.apps.googleusercontent.com&redirect_uri=urn%3aietf%3awg%3aoauth%3a2.0%3aoob&response_type=code&scope=email%20https%3a%2f%2fwww.googleapis.com%2fauth%2fdocs.test%20https%3a%2f%2fwww.googleapis.com%2fauth%2fdrive%20https%3a%2f%2fwww.googleapis.com%2fauth%2fdrive.photos.readonly%20https%3a%2f%2fwww.googleapis.com%2fauth%2fpeopleapi.readonly\n",
            "\n",
            "Enter your authorization code:\n",
            "··········\n",
            "Mounted at /content/drive/\n"
          ],
          "name": "stdout"
        }
      ]
    },
    {
      "cell_type": "markdown",
      "metadata": {
        "id": "7OsUrEwnmy6E",
        "colab_type": "text"
      },
      "source": [
        "### Get your workspace ready"
      ]
    },
    {
      "cell_type": "code",
      "metadata": {
        "id": "fUEFaLJqnT7Z",
        "colab_type": "code",
        "colab": {}
      },
      "source": [
        "# Import necessary libraries\n",
        "import pandas as pd\n",
        "import numpy as np\n",
        "import nltk\n",
        "import re\n",
        "\n",
        "# Other imports would be imported at specific necessary cells"
      ],
      "execution_count": 21,
      "outputs": []
    },
    {
      "cell_type": "markdown",
      "metadata": {
        "id": "VKWnwLmTnih1",
        "colab_type": "text"
      },
      "source": [
        "### Data Preprocessing"
      ]
    },
    {
      "cell_type": "code",
      "metadata": {
        "id": "j8Ws77M-n6In",
        "colab_type": "code",
        "colab": {}
      },
      "source": [
        "# Load the dataset into dataframe\n",
        "df = pd.read_csv(\"/content/drive/My Drive/Restaurant Reviews/Restaurant_Reviews.tsv\", delimiter='\\t')"
      ],
      "execution_count": 7,
      "outputs": []
    },
    {
      "cell_type": "code",
      "metadata": {
        "id": "Lsnd7fz-wtEl",
        "colab_type": "code",
        "colab": {
          "base_uri": "https://localhost:8080/",
          "height": 204
        },
        "outputId": "7f3265ec-4950-4eee-9b71-236f52904d85"
      },
      "source": [
        "df.head()"
      ],
      "execution_count": 10,
      "outputs": [
        {
          "output_type": "execute_result",
          "data": {
            "text/html": [
              "<div>\n",
              "<style scoped>\n",
              "    .dataframe tbody tr th:only-of-type {\n",
              "        vertical-align: middle;\n",
              "    }\n",
              "\n",
              "    .dataframe tbody tr th {\n",
              "        vertical-align: top;\n",
              "    }\n",
              "\n",
              "    .dataframe thead th {\n",
              "        text-align: right;\n",
              "    }\n",
              "</style>\n",
              "<table border=\"1\" class=\"dataframe\">\n",
              "  <thead>\n",
              "    <tr style=\"text-align: right;\">\n",
              "      <th></th>\n",
              "      <th>Review</th>\n",
              "      <th>Liked</th>\n",
              "    </tr>\n",
              "  </thead>\n",
              "  <tbody>\n",
              "    <tr>\n",
              "      <th>0</th>\n",
              "      <td>Wow... Loved this place.</td>\n",
              "      <td>1</td>\n",
              "    </tr>\n",
              "    <tr>\n",
              "      <th>1</th>\n",
              "      <td>Crust is not good.</td>\n",
              "      <td>0</td>\n",
              "    </tr>\n",
              "    <tr>\n",
              "      <th>2</th>\n",
              "      <td>Not tasty and the texture was just nasty.</td>\n",
              "      <td>0</td>\n",
              "    </tr>\n",
              "    <tr>\n",
              "      <th>3</th>\n",
              "      <td>Stopped by during the late May bank holiday of...</td>\n",
              "      <td>1</td>\n",
              "    </tr>\n",
              "    <tr>\n",
              "      <th>4</th>\n",
              "      <td>The selection on the menu was great and so wer...</td>\n",
              "      <td>1</td>\n",
              "    </tr>\n",
              "  </tbody>\n",
              "</table>\n",
              "</div>"
            ],
            "text/plain": [
              "                                              Review  Liked\n",
              "0                           Wow... Loved this place.      1\n",
              "1                                 Crust is not good.      0\n",
              "2          Not tasty and the texture was just nasty.      0\n",
              "3  Stopped by during the late May bank holiday of...      1\n",
              "4  The selection on the menu was great and so wer...      1"
            ]
          },
          "metadata": {
            "tags": []
          },
          "execution_count": 10
        }
      ]
    },
    {
      "cell_type": "code",
      "metadata": {
        "id": "DKfcq3bmw_Fl",
        "colab_type": "code",
        "colab": {
          "base_uri": "https://localhost:8080/",
          "height": 34
        },
        "outputId": "204c58ee-7c84-4d30-9209-fc57118d305e"
      },
      "source": [
        "# Know the shape of the dataframe\n",
        "df.shape"
      ],
      "execution_count": 12,
      "outputs": [
        {
          "output_type": "execute_result",
          "data": {
            "text/plain": [
              "(1000, 2)"
            ]
          },
          "metadata": {
            "tags": []
          },
          "execution_count": 12
        }
      ]
    },
    {
      "cell_type": "code",
      "metadata": {
        "id": "9Sii1cdexGNZ",
        "colab_type": "code",
        "colab": {
          "base_uri": "https://localhost:8080/",
          "height": 34
        },
        "outputId": "1ea719ec-9fcf-41df-b6db-7d4a6bbc376b"
      },
      "source": [
        "# Know the columns of the dataframe\n",
        "df.columns"
      ],
      "execution_count": 14,
      "outputs": [
        {
          "output_type": "execute_result",
          "data": {
            "text/plain": [
              "Index(['Review', 'Liked'], dtype='object')"
            ]
          },
          "metadata": {
            "tags": []
          },
          "execution_count": 14
        }
      ]
    },
    {
      "cell_type": "code",
      "metadata": {
        "id": "_4tcDk4HyaF9",
        "colab_type": "code",
        "colab": {
          "base_uri": "https://localhost:8080/",
          "height": 170
        },
        "outputId": "d7562a30-b2d4-4dd8-897e-9a04bf949fd5"
      },
      "source": [
        "# Know the data types of all columns\n",
        "df.info()"
      ],
      "execution_count": 17,
      "outputs": [
        {
          "output_type": "stream",
          "text": [
            "<class 'pandas.core.frame.DataFrame'>\n",
            "RangeIndex: 1000 entries, 0 to 999\n",
            "Data columns (total 2 columns):\n",
            " #   Column  Non-Null Count  Dtype \n",
            "---  ------  --------------  ----- \n",
            " 0   Review  1000 non-null   object\n",
            " 1   Liked   1000 non-null   int64 \n",
            "dtypes: int64(1), object(1)\n",
            "memory usage: 15.8+ KB\n"
          ],
          "name": "stdout"
        }
      ]
    },
    {
      "cell_type": "markdown",
      "metadata": {
        "id": "jQeO76SQyyLJ",
        "colab_type": "text"
      },
      "source": [
        "### Clean the data\n",
        "  * Remove all the special characters\n",
        "  * Change all the characters to lower case\n",
        "  * Tokenize each reviews into words\n",
        "  * Remove stopwords\n",
        "  * Perform Stemming / Lemmatization"
      ]
    },
    {
      "cell_type": "code",
      "metadata": {
        "id": "r6PN7EeB2Sg2",
        "colab_type": "code",
        "colab": {
          "base_uri": "https://localhost:8080/",
          "height": 68
        },
        "outputId": "976d9a98-4aa3-4704-84e2-62e52af1c32f"
      },
      "source": [
        "# Download stopwords\n",
        "\n",
        "# Stopwords are words that add no value to the prediction.\n",
        "# Example of these words are: the, is, at, or, his, him, it, so, etc.\n",
        "\n",
        "nltk.download('stopwords')"
      ],
      "execution_count": 19,
      "outputs": [
        {
          "output_type": "stream",
          "text": [
            "[nltk_data] Downloading package stopwords to /root/nltk_data...\n",
            "[nltk_data]   Unzipping corpora/stopwords.zip.\n"
          ],
          "name": "stdout"
        },
        {
          "output_type": "execute_result",
          "data": {
            "text/plain": [
              "True"
            ]
          },
          "metadata": {
            "tags": []
          },
          "execution_count": 19
        }
      ]
    },
    {
      "cell_type": "code",
      "metadata": {
        "id": "MPpdaW5v1l5c",
        "colab_type": "code",
        "colab": {}
      },
      "source": [
        "# Import other stopwords and PortetStemmer\n",
        "from nltk.corpus import stopwords\n",
        "from nltk.stem.porter import PorterStemmer"
      ],
      "execution_count": 20,
      "outputs": []
    },
    {
      "cell_type": "code",
      "metadata": {
        "id": "xGydIGIZ4aHp",
        "colab_type": "code",
        "colab": {}
      },
      "source": [
        "# Cleaning the reviews\n",
        "corpus = [] # corpus is list of words\n",
        "ps = PorterStemmer()\n",
        "for i in range(len(df)):\n",
        "\n",
        "  # cleaning special characters from reviews\n",
        "  review = re.sub(pattern='[^a-zA-Z]', repl=' ', string=df['Review'][i])\n",
        "\n",
        "  # converting each review into lowercase\n",
        "  review = review.lower()\n",
        "\n",
        "  # tokenizing the review into words\n",
        "  review_words = review.split()\n",
        "\n",
        "  # removing the stop words\n",
        "  review_words = [word for word in review_words if word not in set(stopwords.words('english'))]\n",
        "\n",
        "  # stemming the words\n",
        "  review_words = [ps.stem(word) for word in review_words]\n",
        "\n",
        "  # joining the stemmed words\n",
        "  review = ' '.join(review_words)\n",
        "\n",
        "  # add to corpus\n",
        "  corpus.append(review)"
      ],
      "execution_count": 22,
      "outputs": []
    },
    {
      "cell_type": "code",
      "metadata": {
        "id": "fiSL-NIS7GNj",
        "colab_type": "code",
        "colab": {
          "base_uri": "https://localhost:8080/",
          "height": 187
        },
        "outputId": "41bf2d1a-d3d1-4f63-9f11-13b53f857103"
      },
      "source": [
        "corpus[0:10]"
      ],
      "execution_count": 26,
      "outputs": [
        {
          "output_type": "execute_result",
          "data": {
            "text/plain": [
              "['wow love place',\n",
              " 'crust good',\n",
              " 'tasti textur nasti',\n",
              " 'stop late may bank holiday rick steve recommend love',\n",
              " 'select menu great price',\n",
              " 'get angri want damn pho',\n",
              " 'honeslti tast fresh',\n",
              " 'potato like rubber could tell made ahead time kept warmer',\n",
              " 'fri great',\n",
              " 'great touch']"
            ]
          },
          "metadata": {
            "tags": []
          },
          "execution_count": 26
        }
      ]
    },
    {
      "cell_type": "markdown",
      "metadata": {
        "id": "xBnSmxHo7KBQ",
        "colab_type": "text"
      },
      "source": [
        "### Create Bag of Words (convert text to numerical vectors)\n",
        "\n",
        "As we know each machine learning model takes only numeric input(either 0 or 1), we will convert all the reviews into numbers, and then create vectors."
      ]
    },
    {
      "cell_type": "code",
      "metadata": {
        "id": "VV6-OI4W8HB5",
        "colab_type": "code",
        "colab": {}
      },
      "source": [
        "# import CountVectorizer\n",
        "from sklearn.feature_extraction.text import TfidfVectorizer\n",
        "tf = TfidfVectorizer(max_features=1500)\n",
        "X = tf.fit_transform(corpus).toarray()\n",
        "y = df.iloc[:,1].values"
      ],
      "execution_count": 61,
      "outputs": []
    },
    {
      "cell_type": "code",
      "metadata": {
        "id": "TQ7ZgPTy9QWl",
        "colab_type": "code",
        "colab": {
          "base_uri": "https://localhost:8080/",
          "height": 34
        },
        "outputId": "4e265026-72ff-42ec-de15-b32212b60177"
      },
      "source": [
        "X.shape, y.shape"
      ],
      "execution_count": 62,
      "outputs": [
        {
          "output_type": "execute_result",
          "data": {
            "text/plain": [
              "((1000, 1500), (1000,))"
            ]
          },
          "metadata": {
            "tags": []
          },
          "execution_count": 62
        }
      ]
    },
    {
      "cell_type": "markdown",
      "metadata": {
        "id": "elDlglpt9u1f",
        "colab_type": "text"
      },
      "source": [
        "### Create test and train sets\n"
      ]
    },
    {
      "cell_type": "code",
      "metadata": {
        "id": "iVXrTYOe-jcm",
        "colab_type": "code",
        "colab": {}
      },
      "source": [
        "from sklearn.model_selection import train_test_split\n",
        "X_train, X_test, y_train, y_test = train_test_split(X, y, test_size=0.2, random_state=0)"
      ],
      "execution_count": 63,
      "outputs": []
    },
    {
      "cell_type": "code",
      "metadata": {
        "id": "43E-umOK_AP2",
        "colab_type": "code",
        "colab": {
          "base_uri": "https://localhost:8080/",
          "height": 34
        },
        "outputId": "c96746fb-54a8-40c3-e780-c96aa33f4156"
      },
      "source": [
        "(X_train.shape, y_train.shape)"
      ],
      "execution_count": 64,
      "outputs": [
        {
          "output_type": "execute_result",
          "data": {
            "text/plain": [
              "((800, 1500), (800,))"
            ]
          },
          "metadata": {
            "tags": []
          },
          "execution_count": 64
        }
      ]
    },
    {
      "cell_type": "code",
      "metadata": {
        "id": "3dyM9NaL_DfA",
        "colab_type": "code",
        "colab": {
          "base_uri": "https://localhost:8080/",
          "height": 34
        },
        "outputId": "66028958-88c4-4b34-c5dc-14cd2e85e31b"
      },
      "source": [
        "(X_test.shape, y_test.shape)"
      ],
      "execution_count": 65,
      "outputs": [
        {
          "output_type": "execute_result",
          "data": {
            "text/plain": [
              "((200, 1500), (200,))"
            ]
          },
          "metadata": {
            "tags": []
          },
          "execution_count": 65
        }
      ]
    },
    {
      "cell_type": "markdown",
      "metadata": {
        "id": "JPS4gpOX_QMP",
        "colab_type": "text"
      },
      "source": [
        "### Model Building\n",
        "\n",
        "Here we are using Naive Bayes classifier model, it works on probability."
      ]
    },
    {
      "cell_type": "code",
      "metadata": {
        "id": "6shDeT-S_ki2",
        "colab_type": "code",
        "colab": {
          "base_uri": "https://localhost:8080/",
          "height": 34
        },
        "outputId": "8dbcf58c-f66f-42c9-b983-04517a41a3f9"
      },
      "source": [
        "# import Naive Bayes from sklearn\n",
        "from sklearn.naive_bayes import MultinomialNB\n",
        "\n",
        "# create an instance for MultinomialNB\n",
        "classifier = MultinomialNB()\n",
        "\n",
        "# Fit the data to the model\n",
        "classifier.fit(X_train, y_train)"
      ],
      "execution_count": 66,
      "outputs": [
        {
          "output_type": "execute_result",
          "data": {
            "text/plain": [
              "MultinomialNB(alpha=1.0, class_prior=None, fit_prior=True)"
            ]
          },
          "metadata": {
            "tags": []
          },
          "execution_count": 66
        }
      ]
    },
    {
      "cell_type": "markdown",
      "metadata": {
        "id": "dAaJZKGMAOuT",
        "colab_type": "text"
      },
      "source": [
        "### Predict train and test results"
      ]
    },
    {
      "cell_type": "code",
      "metadata": {
        "id": "pNfHfc7tAeoM",
        "colab_type": "code",
        "colab": {}
      },
      "source": [
        "y_train_preds = classifier.predict(X_train)"
      ],
      "execution_count": 67,
      "outputs": []
    },
    {
      "cell_type": "code",
      "metadata": {
        "id": "gENfdElOAmgA",
        "colab_type": "code",
        "colab": {}
      },
      "source": [
        "y_test_preds = classifier.predict(X_test)"
      ],
      "execution_count": 68,
      "outputs": []
    },
    {
      "cell_type": "markdown",
      "metadata": {
        "id": "LxiifQNOAsbC",
        "colab_type": "text"
      },
      "source": [
        "### Evaluation"
      ]
    },
    {
      "cell_type": "code",
      "metadata": {
        "id": "ReuQu9OzA1FM",
        "colab_type": "code",
        "colab": {
          "base_uri": "https://localhost:8080/",
          "height": 85
        },
        "outputId": "67b13bd1-594c-4656-88de-45d77fa7fe17"
      },
      "source": [
        "# Calculate Accuracy, Precision and Recall\n",
        "from sklearn.metrics import accuracy_score\n",
        "from sklearn.metrics import precision_score\n",
        "from sklearn.metrics import recall_score\n",
        "\n",
        "accuracy = accuracy_score(y_test, y_test_preds)\n",
        "recall = recall_score(y_test, y_test_preds)\n",
        "precision = precision_score(y_test, y_test_preds)\n",
        "\n",
        "print(\"///---Scores---///\")\n",
        "print('Accuracy Score is : {}%'.format(round(accuracy*100,2)))\n",
        "print('Precision Score is : {}'.format(round(precision,2)))\n",
        "print('Recall Score is : {}'.format(round(recall,2)))"
      ],
      "execution_count": 69,
      "outputs": [
        {
          "output_type": "stream",
          "text": [
            "///---Scores---///\n",
            "Accuracy Score is : 77.5%\n",
            "Precision Score is : 0.77\n",
            "Recall Score is : 0.8\n"
          ],
          "name": "stdout"
        }
      ]
    },
    {
      "cell_type": "markdown",
      "metadata": {
        "id": "3VUAGNJWCWdu",
        "colab_type": "text"
      },
      "source": [
        "### Confusion Matrix"
      ]
    },
    {
      "cell_type": "code",
      "metadata": {
        "id": "6Eb0pwsfDc5f",
        "colab_type": "code",
        "colab": {
          "base_uri": "https://localhost:8080/",
          "height": 51
        },
        "outputId": "5c99ab1f-ae05-4958-a05c-24d4b5a7610d"
      },
      "source": [
        "from sklearn.metrics import confusion_matrix\n",
        "cm = confusion_matrix(y_test, y_test_preds)\n",
        "cm"
      ],
      "execution_count": 70,
      "outputs": [
        {
          "output_type": "execute_result",
          "data": {
            "text/plain": [
              "array([[73, 24],\n",
              "       [21, 82]])"
            ]
          },
          "metadata": {
            "tags": []
          },
          "execution_count": 70
        }
      ]
    },
    {
      "cell_type": "code",
      "metadata": {
        "id": "zLx52dRuDsed",
        "colab_type": "code",
        "colab": {
          "base_uri": "https://localhost:8080/",
          "height": 405
        },
        "outputId": "4c84ffa1-f8a7-482b-94ee-e8385f7f682a"
      },
      "source": [
        "# Plotting confusion matrix\n",
        "import matplotlib.pyplot as plt\n",
        "%matplotlib inline\n",
        "import seaborn as sns\n",
        "\n",
        "plt.figure(figsize=(6,6))\n",
        "sns.heatmap(cm, annot=True, cmap=\"YlGnBu\", xticklabels=['Neagtive', 'Positive'], yticklabels=['Negative', 'Positive'])\n",
        "plt.xlabel('Predicted Values')\n",
        "plt.ylabel('Actual Values')"
      ],
      "execution_count": 74,
      "outputs": [
        {
          "output_type": "execute_result",
          "data": {
            "text/plain": [
              "Text(33.0, 0.5, 'Actual Values')"
            ]
          },
          "metadata": {
            "tags": []
          },
          "execution_count": 74
        },
        {
          "output_type": "display_data",
          "data": {
            "image/png": "[encoded data removed]",
            "text/plain": [
              "<Figure size 432x432 with 2 Axes>"
            ]
          },
          "metadata": {
            "tags": [],
            "needs_background": "light"
          }
        }
      ]
    },
    {
      "cell_type": "code",
      "metadata": {
        "id": "-TFr4VjuFrGW",
        "colab_type": "code",
        "colab": {}
      },
      "source": [
        ""
      ],
      "execution_count": null,
      "outputs": []
    }
  ]
}